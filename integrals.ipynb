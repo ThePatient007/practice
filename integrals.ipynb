{
  "nbformat": 4,
  "nbformat_minor": 0,
  "metadata": {
    "colab": {
      "name": "integrals.ipynb",
      "provenance": [],
      "authorship_tag": "ABX9TyNNjKMYNnOSI2/6GayWl4Hx",
      "include_colab_link": true
    },
    "kernelspec": {
      "name": "python3",
      "display_name": "Python 3"
    },
    "language_info": {
      "name": "python"
    }
  },
  "cells": [
    {
      "cell_type": "markdown",
      "metadata": {
        "id": "view-in-github",
        "colab_type": "text"
      },
      "source": [
        "<a href=\"https://colab.research.google.com/github/ThePatient007/practice/blob/main/integrals.ipynb\" target=\"_parent\"><img src=\"https://colab.research.google.com/assets/colab-badge.svg\" alt=\"Open In Colab\"/></a>"
      ]
    },
    {
      "cell_type": "markdown",
      "source": [
        " The Opener\n",
        " "
      ],
      "metadata": {
        "id": "RwS4fzWcsDJS"
      }
    },
    {
      "cell_type": "code",
      "source": [
        "import numpy as np\n",
        "import scipy as sp\n",
        "import sympy as smp\n",
        "import matplotlib.pyplot as plt"
      ],
      "metadata": {
        "id": "oL6szVWrsI59"
      },
      "execution_count": 5,
      "outputs": []
    },
    {
      "cell_type": "markdown",
      "source": [
        "\n",
        "Example: Find \n",
        "\n",
        "$$\n",
        "  \\int \\sin^3(x) e^{-5x} dx\n",
        "$$\n"
      ],
      "metadata": {
        "id": "DWDM0Ozrt3YD"
      }
    },
    {
      "cell_type": "code",
      "source": [
        "x = smp.symbols('x', real=True)\n",
        "f = smp.sin(x)**3 * smp.exp(-5*x)"
      ],
      "metadata": {
        "id": "IeBd-mPXtcia"
      },
      "execution_count": 7,
      "outputs": []
    },
    {
      "cell_type": "code",
      "source": [
        "smp.integrate(f, x)"
      ],
      "metadata": {
        "colab": {
          "base_uri": "https://localhost:8080/",
          "height": 55
        },
        "id": "kHOEh95ctm3x",
        "outputId": "d30ff0bf-cea4-42bb-dabd-919457e80c00"
      },
      "execution_count": 8,
      "outputs": [
        {
          "output_type": "execute_result",
          "data": {
            "text/plain": [
              "-40*exp(-5*x)*sin(x)**3/221 - 21*exp(-5*x)*sin(x)**2*cos(x)/221 - 15*exp(-5*x)*sin(x)*cos(x)**2/442 - 3*exp(-5*x)*cos(x)**3/442"
            ],
            "text/latex": "$\\displaystyle - \\frac{40 e^{- 5 x} \\sin^{3}{\\left(x \\right)}}{221} - \\frac{21 e^{- 5 x} \\sin^{2}{\\left(x \\right)} \\cos{\\left(x \\right)}}{221} - \\frac{15 e^{- 5 x} \\sin{\\left(x \\right)} \\cos^{2}{\\left(x \\right)}}{442} - \\frac{3 e^{- 5 x} \\cos^{3}{\\left(x \\right)}}{442}$"
          },
          "metadata": {},
          "execution_count": 8
        }
      ]
    },
    {
      "cell_type": "markdown",
      "source": [
        "find\n",
        "$$\n",
        "  \\int \\cos(bx)e^{-ax} dx\n",
        "$$"
      ],
      "metadata": {
        "id": "fq7ocNGGv7YZ"
      }
    },
    {
      "cell_type": "code",
      "source": [
        "a, b = smp.symbols('a b', real=True, positive=True)\n",
        "f = smp.cos(b*x)* smp.exp(-a*x)\n"
      ],
      "metadata": {
        "id": "YPoL_V1hwDBN"
      },
      "execution_count": 9,
      "outputs": []
    },
    {
      "cell_type": "code",
      "source": [
        ""
      ],
      "metadata": {
        "id": "ZnFNH0GHwLp3"
      },
      "execution_count": null,
      "outputs": []
    },
    {
      "cell_type": "code",
      "source": [
        "smp.integrate(f, x).simplify()"
      ],
      "metadata": {
        "colab": {
          "base_uri": "https://localhost:8080/",
          "height": 55
        },
        "id": "ZosPF-LhwIau",
        "outputId": "e1a1d2c5-cc9e-46fc-fa65-28125e722edc"
      },
      "execution_count": 10,
      "outputs": [
        {
          "output_type": "execute_result",
          "data": {
            "text/plain": [
              "(-a*cos(b*x) + b*sin(b*x))*exp(-a*x)/(a**2 + b**2)"
            ],
            "text/latex": "$\\displaystyle \\frac{\\left(- a \\cos{\\left(b x \\right)} + b \\sin{\\left(b x \\right)}\\right) e^{- a x}}{a^{2} + b^{2}}$"
          },
          "metadata": {},
          "execution_count": 10
        }
      ]
    },
    {
      "cell_type": "markdown",
      "source": [
        "find\n",
        "$$\n",
        "  \\int_{0}^{\\ln(4)}\\frac{e^x}{\\sqrt{e^{2x}+9}} dx\n",
        "$$"
      ],
      "metadata": {
        "id": "v95oCQ4rwW4x"
      }
    },
    {
      "cell_type": "code",
      "source": [
        "f = smp.exp(x) / smp.sqrt(smp.exp(2*x) + 9)\n",
        "smp.integrate(f, (x, 0, smp.log(4)))"
      ],
      "metadata": {
        "colab": {
          "base_uri": "https://localhost:8080/",
          "height": 58
        },
        "id": "XkVLUCv9wbmH",
        "outputId": "b465d821-bb3f-4bbd-8472-0fbeba8c4275"
      },
      "execution_count": 12,
      "outputs": [
        {
          "output_type": "execute_result",
          "data": {
            "text/plain": [
              "-asinh(1/3) + asinh(4/3)"
            ],
            "text/latex": "$\\displaystyle - \\operatorname{asinh}{\\left(\\frac{1}{3} \\right)} + \\operatorname{asinh}{\\left(\\frac{4}{3} \\right)}$"
          },
          "metadata": {},
          "execution_count": 12
        }
      ]
    },
    {
      "cell_type": "code",
      "source": [
        ""
      ],
      "metadata": {
        "id": "W21iMxw6weAf"
      },
      "execution_count": null,
      "outputs": []
    }
  ]
}